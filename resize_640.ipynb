{
 "cells": [
  {
   "cell_type": "code",
   "execution_count": 1,
   "metadata": {},
   "outputs": [
    {
     "ename": "FileNotFoundError",
     "evalue": "[WinError 3] The system cannot find the path specified: 'Bbx/vott-json-export'",
     "output_type": "error",
     "traceback": [
      "\u001b[1;31m---------------------------------------------------------------------------\u001b[0m",
      "\u001b[1;31mFileNotFoundError\u001b[0m                         Traceback (most recent call last)",
      "Cell \u001b[1;32mIn[1], line 27\u001b[0m\n\u001b[0;32m     24\u001b[0m output_dir \u001b[39m=\u001b[39m \u001b[39m'\u001b[39m\u001b[39mDataMain-640\u001b[39m\u001b[39m'\u001b[39m  \u001b[39m# Replace with your actual path to the output directory\u001b[39;00m\n\u001b[0;32m     26\u001b[0m \u001b[39m# Uncomment below line to run the function\u001b[39;00m\n\u001b[1;32m---> 27\u001b[0m resize_images(input_dir, output_dir)\n",
      "Cell \u001b[1;32mIn[1], line 9\u001b[0m, in \u001b[0;36mresize_images\u001b[1;34m(input_dir, output_dir, new_size)\u001b[0m\n\u001b[0;32m      6\u001b[0m \u001b[39mif\u001b[39;00m \u001b[39mnot\u001b[39;00m os\u001b[39m.\u001b[39mpath\u001b[39m.\u001b[39mexists(output_dir):\n\u001b[0;32m      7\u001b[0m     os\u001b[39m.\u001b[39mmakedirs(output_dir)\n\u001b[1;32m----> 9\u001b[0m \u001b[39mfor\u001b[39;00m filename \u001b[39min\u001b[39;00m os\u001b[39m.\u001b[39;49mlistdir(input_dir):\n\u001b[0;32m     10\u001b[0m     \u001b[39mif\u001b[39;00m filename\u001b[39m.\u001b[39mendswith((\u001b[39m'\u001b[39m\u001b[39m.jpg\u001b[39m\u001b[39m'\u001b[39m, \u001b[39m'\u001b[39m\u001b[39m.png\u001b[39m\u001b[39m'\u001b[39m, \u001b[39m'\u001b[39m\u001b[39m.jpeg\u001b[39m\u001b[39m'\u001b[39m)):  \u001b[39m# Add or remove file formats as needed\u001b[39;00m\n\u001b[0;32m     11\u001b[0m         img_path \u001b[39m=\u001b[39m os\u001b[39m.\u001b[39mpath\u001b[39m.\u001b[39mjoin(input_dir, filename)\n",
      "\u001b[1;31mFileNotFoundError\u001b[0m: [WinError 3] The system cannot find the path specified: 'Bbx/vott-json-export'"
     ]
    }
   ],
   "source": [
    "#main resized\n",
    "from PIL import Image\n",
    "import os\n",
    "\n",
    "def resize_images(input_dir, output_dir, new_size=(640, 640)):\n",
    "    if not os.path.exists(output_dir):\n",
    "        os.makedirs(output_dir)\n",
    "\n",
    "    for filename in os.listdir(input_dir):\n",
    "        if filename.endswith(('.jpg', '.png', '.jpeg')):  # Add or remove file formats as needed\n",
    "            img_path = os.path.join(input_dir, filename)\n",
    "            img = Image.open(img_path)\n",
    "            \n",
    "            # Resize the image\n",
    "            img_resized = img.resize(new_size, Image.Resampling.LANCZOS)\n",
    "            \n",
    "            # Save the resized image to the output directory\n",
    "            img_resized.save(os.path.join(output_dir, filename))\n",
    "\n",
    "    print(f\"Resized images are saved in {output_dir}\")\n",
    "\n",
    "# Example usage\n",
    "input_dir = 'Bbx/vott-json-export'  # Replace with your actual path to the input directory\n",
    "output_dir = 'DataMain-640'  # Replace with your actual path to the output directory\n",
    "\n",
    "# Uncomment below line to run the function\n",
    "resize_images(input_dir, output_dir)\n"
   ]
  },
  {
   "cell_type": "code",
   "execution_count": null,
   "metadata": {},
   "outputs": [
    {
     "ename": "KeyboardInterrupt",
     "evalue": "",
     "output_type": "error",
     "traceback": [
      "\u001b[1;31m---------------------------------------------------------------------------\u001b[0m",
      "\u001b[1;31mKeyboardInterrupt\u001b[0m                         Traceback (most recent call last)",
      "Cell \u001b[1;32mIn[6], line 48\u001b[0m\n\u001b[0;32m     45\u001b[0m target_directory \u001b[39m=\u001b[39m \u001b[39m\"\u001b[39m\u001b[39mDataMain-640\u001b[39m\u001b[39m\"\u001b[39m\n\u001b[0;32m     47\u001b[0m \u001b[39m# Process all images\u001b[39;00m\n\u001b[1;32m---> 48\u001b[0m process_images(source_directory, target_directory)\n",
      "Cell \u001b[1;32mIn[6], line 39\u001b[0m, in \u001b[0;36mprocess_images\u001b[1;34m(source_dir, target_dir, output_size)\u001b[0m\n\u001b[0;32m     36\u001b[0m target_path \u001b[39m=\u001b[39m os\u001b[39m.\u001b[39mpath\u001b[39m.\u001b[39mjoin(target_dir, filename)\n\u001b[0;32m     38\u001b[0m \u001b[39m# Resize and crop the image\u001b[39;00m\n\u001b[1;32m---> 39\u001b[0m resized_img \u001b[39m=\u001b[39m resize_and_crop(source_path, output_size)\n\u001b[0;32m     40\u001b[0m \u001b[39m# Save the resized image\u001b[39;00m\n\u001b[0;32m     41\u001b[0m resized_img\u001b[39m.\u001b[39msave(target_path)\n",
      "Cell \u001b[1;32mIn[6], line 14\u001b[0m, in \u001b[0;36mresize_and_crop\u001b[1;34m(img_path, output_size)\u001b[0m\n\u001b[0;32m     11\u001b[0m new_height \u001b[39m=\u001b[39m \u001b[39mint\u001b[39m(img\u001b[39m.\u001b[39mheight \u001b[39m*\u001b[39m scaling_factor)\n\u001b[0;32m     13\u001b[0m \u001b[39m# Resize with new dimensions\u001b[39;00m\n\u001b[1;32m---> 14\u001b[0m img \u001b[39m=\u001b[39m img\u001b[39m.\u001b[39;49mresize((new_width, new_height), Image\u001b[39m.\u001b[39;49mResampling\u001b[39m.\u001b[39;49mLANCZOS)\n\u001b[0;32m     16\u001b[0m \u001b[39m# Calculate cropping coordinates\u001b[39;00m\n\u001b[0;32m     17\u001b[0m left \u001b[39m=\u001b[39m (new_width \u001b[39m-\u001b[39m output_size) \u001b[39m/\u001b[39m \u001b[39m2\u001b[39m\n",
      "File \u001b[1;32mc:\\Users\\ASUS\\anaconda3\\lib\\site-packages\\PIL\\Image.py:2163\u001b[0m, in \u001b[0;36mImage.resize\u001b[1;34m(self, size, resample, box, reducing_gap)\u001b[0m\n\u001b[0;32m   2159\u001b[0m     \u001b[39mraise\u001b[39;00m \u001b[39mValueError\u001b[39;00m(msg)\n\u001b[0;32m   2161\u001b[0m size \u001b[39m=\u001b[39m \u001b[39mtuple\u001b[39m(size)\n\u001b[1;32m-> 2163\u001b[0m \u001b[39mself\u001b[39;49m\u001b[39m.\u001b[39;49mload()\n\u001b[0;32m   2164\u001b[0m \u001b[39mif\u001b[39;00m box \u001b[39mis\u001b[39;00m \u001b[39mNone\u001b[39;00m:\n\u001b[0;32m   2165\u001b[0m     box \u001b[39m=\u001b[39m (\u001b[39m0\u001b[39m, \u001b[39m0\u001b[39m) \u001b[39m+\u001b[39m \u001b[39mself\u001b[39m\u001b[39m.\u001b[39msize\n",
      "File \u001b[1;32mc:\\Users\\ASUS\\anaconda3\\lib\\site-packages\\PIL\\ImageFile.py:269\u001b[0m, in \u001b[0;36mImageFile.load\u001b[1;34m(self)\u001b[0m\n\u001b[0;32m    266\u001b[0m         \u001b[39mraise\u001b[39;00m \u001b[39mOSError\u001b[39;00m(msg)\n\u001b[0;32m    268\u001b[0m b \u001b[39m=\u001b[39m b \u001b[39m+\u001b[39m s\n\u001b[1;32m--> 269\u001b[0m n, err_code \u001b[39m=\u001b[39m decoder\u001b[39m.\u001b[39;49mdecode(b)\n\u001b[0;32m    270\u001b[0m \u001b[39mif\u001b[39;00m n \u001b[39m<\u001b[39m \u001b[39m0\u001b[39m:\n\u001b[0;32m    271\u001b[0m     \u001b[39mbreak\u001b[39;00m\n",
      "\u001b[1;31mKeyboardInterrupt\u001b[0m: "
     ]
    }
   ],
   "source": [
    "# failed becuase changed label cordinate\n",
    "import os\n",
    "from PIL import Image\n",
    "\n",
    "def resize_and_crop(img_path, output_size=640):\n",
    "    with Image.open(img_path) as img:\n",
    "        # Determine the scaling factor\n",
    "        scaling_factor = max(output_size / img.width, output_size / img.height)\n",
    "        \n",
    "        # Calculate new dimensions\n",
    "        new_width = int(img.width * scaling_factor)\n",
    "        new_height = int(img.height * scaling_factor)\n",
    "\n",
    "        # Resize with new dimensions\n",
    "        img = img.resize((new_width, new_height), Image.Resampling.LANCZOS)\n",
    "\n",
    "        # Calculate cropping coordinates\n",
    "        left = (new_width - output_size) / 2\n",
    "        top = (new_height - output_size) / 2\n",
    "        right = (new_width + output_size) / 2\n",
    "        bottom = (new_height + output_size) / 2\n",
    "\n",
    "        # Crop to desired size\n",
    "        img = img.crop((left, top, right, bottom))\n",
    "        \n",
    "        return img\n",
    "\n",
    "def process_images(source_dir, target_dir, output_size=640):\n",
    "    # Create target directory if it doesn't exist\n",
    "    if not os.path.exists(target_dir):\n",
    "        os.makedirs(target_dir)\n",
    "    \n",
    "    # List all files in the source directory\n",
    "    for filename in os.listdir(source_dir):\n",
    "        if filename.endswith((\".jpg\", \".jpeg\", \".png\")):  # Check for image files\n",
    "            source_path = os.path.join(source_dir, filename)\n",
    "            target_path = os.path.join(target_dir, filename)\n",
    "            \n",
    "            # Resize and crop the image\n",
    "            resized_img = resize_and_crop(source_path, output_size)\n",
    "            # Save the resized image\n",
    "            resized_img.save(target_path)\n",
    "\n",
    "# Set your source and target directories\n",
    "source_directory = \"Bbx/vott-json-export\"\n",
    "target_directory = \"DataMain-640\"\n",
    "\n",
    "# Process all images\n",
    "process_images(source_directory, target_directory)\n"
   ]
  },
  {
   "cell_type": "code",
   "execution_count": null,
   "metadata": {},
   "outputs": [],
   "source": []
  }
 ],
 "metadata": {
  "kernelspec": {
   "display_name": "base",
   "language": "python",
   "name": "python3"
  },
  "language_info": {
   "codemirror_mode": {
    "name": "ipython",
    "version": 3
   },
   "file_extension": ".py",
   "mimetype": "text/x-python",
   "name": "python",
   "nbconvert_exporter": "python",
   "pygments_lexer": "ipython3",
   "version": "3.10.9"
  },
  "orig_nbformat": 4
 },
 "nbformat": 4,
 "nbformat_minor": 2
}
