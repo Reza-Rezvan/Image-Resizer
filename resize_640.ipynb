{
 "cells": [
  {
   "cell_type": "code",
   "execution_count": null,
   "metadata": {},
   "outputs": [],
   "source": [
    "#main resized\n",
    "from PIL import Image\n",
    "import os\n",
    "\n",
    "def resize_images(input_dir, output_dir, new_size=(640, 640)):\n",
    "    if not os.path.exists(output_dir):\n",
    "        os.makedirs(output_dir)\n",
    "\n",
    "    for filename in os.listdir(input_dir):\n",
    "        if filename.endswith(('.jpg', '.png', '.jpeg')):  # Add or remove file formats as needed\n",
    "            img_path = os.path.join(input_dir, filename)\n",
    "            img = Image.open(img_path)\n",
    "            \n",
    "            # Resize the image\n",
    "            img_resized = img.resize(new_size, Image.Resampling.LANCZOS)\n",
    "            \n",
    "            # Save the resized image to the output directory\n",
    "            img_resized.save(os.path.join(output_dir, filename))\n",
    "\n",
    "    print(f\"Resized images are saved in {output_dir}\")\n",
    "\n",
    "# Example usage\n",
    "input_dir = 'Bbx/vott-json-export'  # Replace with your actual path to the input directory\n",
    "output_dir = 'DataMain-640'  # Replace with your actual path to the output directory\n",
    "\n",
    "# Uncomment below line to run the function\n",
    "resize_images(input_dir, output_dir)\n"
   ]
  }
 ],
 "metadata": {
  "kernelspec": {
   "display_name": "base",
   "language": "python",
   "name": "python3"
  },
  "language_info": {
   "codemirror_mode": {
    "name": "ipython",
    "version": 3
   },
   "file_extension": ".py",
   "mimetype": "text/x-python",
   "name": "python",
   "nbconvert_exporter": "python",
   "pygments_lexer": "ipython3",
   "version": "3.10.9"
  },
  "orig_nbformat": 4
 },
 "nbformat": 4,
 "nbformat_minor": 2
}
